{
 "cells": [
  {
   "cell_type": "code",
   "execution_count": 1,
   "id": "48135c53-f6e0-412f-9245-dece870c38b8",
   "metadata": {
    "tags": []
   },
   "outputs": [
    {
     "name": "stdout",
     "output_type": "stream",
     "text": [
      "WARNING:tensorflow:From C:\\Users\\Home\\Anaconda-latest\\Lib\\site-packages\\keras\\src\\losses.py:2976: The name tf.losses.sparse_softmax_cross_entropy is deprecated. Please use tf.compat.v1.losses.sparse_softmax_cross_entropy instead.\n",
      "\n"
     ]
    }
   ],
   "source": [
    "import numpy as np\n",
    "import pandas as pd\n",
    "from sklearn.metrics import *\n",
    "from ast import literal_eval\n",
    "from tensorflow.random import set_seed\n",
    "import os\n",
    "import pickle"
   ]
  },
  {
   "cell_type": "code",
   "execution_count": 2,
   "id": "e8ec8324-dc2f-4148-a578-9a22caee5ed5",
   "metadata": {
    "tags": []
   },
   "outputs": [],
   "source": [
    "RANDOM_SEED = 0\n",
    "np.random.seed(seed=RANDOM_SEED)\n",
    "set_seed(RANDOM_SEED)"
   ]
  },
  {
   "cell_type": "code",
   "execution_count": 3,
   "id": "589a9a2f-212b-4106-9f38-b2356af7332f",
   "metadata": {},
   "outputs": [
    {
     "name": "stdout",
     "output_type": "stream",
     "text": [
      "dataset shape:  (105303, 9)\n"
     ]
    }
   ],
   "source": [
    "df = pd.read_pickle(\"Fraud Detection with Natural Language Processing.pkl\")\n",
    "print(\"dataset shape: \", df.shape)\n",
    "action_vocab = pd.read_csv(\"vocab.csv\")\n"
   ]
  },
  {
   "cell_type": "markdown",
   "id": "dc26975b-d1e0-4280-839d-62336ebcafe9",
   "metadata": {},
   "source": [
    "Checking Datasets"
   ]
  },
  {
   "cell_type": "code",
   "execution_count": 4,
   "id": "a9d39f4b-c92f-427f-b331-a1ff2bbd45a1",
   "metadata": {
    "tags": []
   },
   "outputs": [
    {
     "data": {
      "text/html": [
       "<div>\n",
       "<style scoped>\n",
       "    .dataframe tbody tr th:only-of-type {\n",
       "        vertical-align: middle;\n",
       "    }\n",
       "\n",
       "    .dataframe tbody tr th {\n",
       "        vertical-align: top;\n",
       "    }\n",
       "\n",
       "    .dataframe thead th {\n",
       "        text-align: right;\n",
       "    }\n",
       "</style>\n",
       "<table border=\"1\" class=\"dataframe\">\n",
       "  <thead>\n",
       "    <tr style=\"text-align: right;\">\n",
       "      <th></th>\n",
       "      <th>0</th>\n",
       "      <th>1</th>\n",
       "      <th>2</th>\n",
       "    </tr>\n",
       "  </thead>\n",
       "  <tbody>\n",
       "    <tr>\n",
       "      <th>actions</th>\n",
       "      <td>[[2], [23], [6], [7], [14], [25], [28], [6], [...</td>\n",
       "      <td>[[22], [27], [24], [1], [1268], [1269], [1267]...</td>\n",
       "      <td>[[22], [24], [27], [1], [1268], [1269], [1267]...</td>\n",
       "    </tr>\n",
       "    <tr>\n",
       "      <th>times</th>\n",
       "      <td>[0, 47000.0, 640000.0, 6000.0, 54000.0, 10000....</td>\n",
       "      <td>[0, 33204.0, 215636.0, 443415.0, 72586.0, 3424...</td>\n",
       "      <td>[0, 25459.0, 46236.0, 428626.0, 42785.0, 74158...</td>\n",
       "    </tr>\n",
       "    <tr>\n",
       "      <th>execution_time</th>\n",
       "      <td>203</td>\n",
       "      <td>203</td>\n",
       "      <td>359</td>\n",
       "    </tr>\n",
       "    <tr>\n",
       "      <th>Amount</th>\n",
       "      <td>15</td>\n",
       "      <td>13</td>\n",
       "      <td>310</td>\n",
       "    </tr>\n",
       "    <tr>\n",
       "      <th>device_freq</th>\n",
       "      <td>1.0</td>\n",
       "      <td>1.0</td>\n",
       "      <td>1.0</td>\n",
       "    </tr>\n",
       "    <tr>\n",
       "      <th>ip_freq</th>\n",
       "      <td>1.0</td>\n",
       "      <td>1.0</td>\n",
       "      <td>0.333333</td>\n",
       "    </tr>\n",
       "    <tr>\n",
       "      <th>beneficiary_freq</th>\n",
       "      <td>1.0</td>\n",
       "      <td>0.5</td>\n",
       "      <td>0.333333</td>\n",
       "    </tr>\n",
       "    <tr>\n",
       "      <th>application_freq</th>\n",
       "      <td>1.0</td>\n",
       "      <td>1.0</td>\n",
       "      <td>1.0</td>\n",
       "    </tr>\n",
       "    <tr>\n",
       "      <th>is_fraud</th>\n",
       "      <td>0</td>\n",
       "      <td>0</td>\n",
       "      <td>0</td>\n",
       "    </tr>\n",
       "  </tbody>\n",
       "</table>\n",
       "</div>"
      ],
      "text/plain": [
       "                                                                  0  \\\n",
       "actions           [[2], [23], [6], [7], [14], [25], [28], [6], [...   \n",
       "times             [0, 47000.0, 640000.0, 6000.0, 54000.0, 10000....   \n",
       "execution_time                                                  203   \n",
       "Amount                                                           15   \n",
       "device_freq                                                     1.0   \n",
       "ip_freq                                                         1.0   \n",
       "beneficiary_freq                                                1.0   \n",
       "application_freq                                                1.0   \n",
       "is_fraud                                                          0   \n",
       "\n",
       "                                                                  1  \\\n",
       "actions           [[22], [27], [24], [1], [1268], [1269], [1267]...   \n",
       "times             [0, 33204.0, 215636.0, 443415.0, 72586.0, 3424...   \n",
       "execution_time                                                  203   \n",
       "Amount                                                           13   \n",
       "device_freq                                                     1.0   \n",
       "ip_freq                                                         1.0   \n",
       "beneficiary_freq                                                0.5   \n",
       "application_freq                                                1.0   \n",
       "is_fraud                                                          0   \n",
       "\n",
       "                                                                  2  \n",
       "actions           [[22], [24], [27], [1], [1268], [1269], [1267]...  \n",
       "times             [0, 25459.0, 46236.0, 428626.0, 42785.0, 74158...  \n",
       "execution_time                                                  359  \n",
       "Amount                                                          310  \n",
       "device_freq                                                     1.0  \n",
       "ip_freq                                                    0.333333  \n",
       "beneficiary_freq                                           0.333333  \n",
       "application_freq                                                1.0  \n",
       "is_fraud                                                          0  "
      ]
     },
     "execution_count": 4,
     "metadata": {},
     "output_type": "execute_result"
    }
   ],
   "source": [
    "df.head(3).T"
   ]
  },
  {
   "cell_type": "code",
   "execution_count": 5,
   "id": "324a7753-aaf4-4619-9902-b426b63d6b2d",
   "metadata": {
    "tags": []
   },
   "outputs": [
    {
     "data": {
      "text/html": [
       "<div>\n",
       "<style scoped>\n",
       "    .dataframe tbody tr th:only-of-type {\n",
       "        vertical-align: middle;\n",
       "    }\n",
       "\n",
       "    .dataframe tbody tr th {\n",
       "        vertical-align: top;\n",
       "    }\n",
       "\n",
       "    .dataframe thead th {\n",
       "        text-align: right;\n",
       "    }\n",
       "</style>\n",
       "<table border=\"1\" class=\"dataframe\">\n",
       "  <thead>\n",
       "    <tr style=\"text-align: right;\">\n",
       "      <th></th>\n",
       "      <th>Name</th>\n",
       "    </tr>\n",
       "  </thead>\n",
       "  <tbody>\n",
       "    <tr>\n",
       "      <th>0</th>\n",
       "      <td>/ACCOUNTS/ACCOUNTS_FULL_EXCHANGE</td>\n",
       "    </tr>\n",
       "    <tr>\n",
       "      <th>1</th>\n",
       "      <td>/PROFILE/USERPROFILE</td>\n",
       "    </tr>\n",
       "    <tr>\n",
       "      <th>2</th>\n",
       "      <td>/P2PREGISTRATION/ASKMEMBER</td>\n",
       "    </tr>\n",
       "    <tr>\n",
       "      <th>3</th>\n",
       "      <td>/CARDS/FETCHCARDS</td>\n",
       "    </tr>\n",
       "    <tr>\n",
       "      <th>4</th>\n",
       "      <td>/ACCOUNTS/ACCOUNTS_FULL</td>\n",
       "    </tr>\n",
       "  </tbody>\n",
       "</table>\n",
       "</div>"
      ],
      "text/plain": [
       "                               Name\n",
       "0  /ACCOUNTS/ACCOUNTS_FULL_EXCHANGE\n",
       "1              /PROFILE/USERPROFILE\n",
       "2        /P2PREGISTRATION/ASKMEMBER\n",
       "3                 /CARDS/FETCHCARDS\n",
       "4           /ACCOUNTS/ACCOUNTS_FULL"
      ]
     },
     "execution_count": 5,
     "metadata": {},
     "output_type": "execute_result"
    }
   ],
   "source": [
    "action_vocab.head(5)"
   ]
  },
  {
   "cell_type": "code",
   "execution_count": 6,
   "id": "74bc5921-335b-45e9-a77b-6a58f080fad1",
   "metadata": {
    "tags": []
   },
   "outputs": [],
   "source": [
    "# one line is broken, throw it away\n",
    "broken_times = df[df.times.apply(lambda x: x[-1]!=\"]\")]\n",
    "assert broken_times.shape[0] == 1\n",
    "assert broken_times.iloc[0].is_fraud==0\n"
   ]
  },
  {
   "cell_type": "code",
   "execution_count": 7,
   "id": "e6a63999-0ea6-464d-b9cc-d35e808f2ca5",
   "metadata": {
    "tags": []
   },
   "outputs": [],
   "source": [
    "# ignore the single broken line\n",
    "df = df[df.times.apply(lambda x: x[-1]==\"]\")]"
   ]
  },
  {
   "cell_type": "code",
   "execution_count": 8,
   "id": "2631a008-a35e-4d03-aa87-360a37b8bfc9",
   "metadata": {},
   "outputs": [],
   "source": [
    "#build the raw text, using the names and the (index-inverted) tokens \n",
    "action_names = action_vocab.Name.to_list()\n",
    "id_to_action = {str(i):a for i,a in enumerate(action_names)}\n",
    "action_to_id = {a:str(i) for i,a in enumerate(action_names)}"
   ]
  },
  {
   "cell_type": "code",
   "execution_count": 9,
   "id": "43eae84b-68a4-4293-92b1-431c34faa9e4",
   "metadata": {
    "tags": []
   },
   "outputs": [],
   "source": [
    "# Recall to cast the strings into lists\n",
    "df.actions = df.actions.apply(literal_eval)"
   ]
  },
  {
   "cell_type": "code",
   "execution_count": 10,
   "id": "0b086d3a-b4b4-4fb0-a4f0-61e67bbac6ce",
   "metadata": {
    "tags": []
   },
   "outputs": [
    {
     "data": {
      "text/html": [
       "<div>\n",
       "<style scoped>\n",
       "    .dataframe tbody tr th:only-of-type {\n",
       "        vertical-align: middle;\n",
       "    }\n",
       "\n",
       "    .dataframe tbody tr th {\n",
       "        vertical-align: top;\n",
       "    }\n",
       "\n",
       "    .dataframe thead th {\n",
       "        text-align: right;\n",
       "    }\n",
       "</style>\n",
       "<table border=\"1\" class=\"dataframe\">\n",
       "  <thead>\n",
       "    <tr style=\"text-align: right;\">\n",
       "      <th></th>\n",
       "      <th>actions</th>\n",
       "      <th>times</th>\n",
       "      <th>execution_time</th>\n",
       "      <th>Amount</th>\n",
       "      <th>device_freq</th>\n",
       "      <th>ip_freq</th>\n",
       "      <th>beneficiary_freq</th>\n",
       "      <th>application_freq</th>\n",
       "      <th>is_fraud</th>\n",
       "      <th>Action time mean</th>\n",
       "      <th>Action time std</th>\n",
       "      <th>log(amount)</th>\n",
       "      <th>Transaction Type</th>\n",
       "      <th>time_to_first_action</th>\n",
       "      <th>actions_str</th>\n",
       "      <th>total_time_to_transaction</th>\n",
       "    </tr>\n",
       "  </thead>\n",
       "  <tbody>\n",
       "    <tr>\n",
       "      <th>1</th>\n",
       "      <td>[22, 27, 24, 1, 1268, 1269, 1267, 22, 29, 1, 2...</td>\n",
       "      <td>[0.0, 33.204, 215.636, 443.415, 72.586, 34.241...</td>\n",
       "      <td>203</td>\n",
       "      <td>13</td>\n",
       "      <td>1.0</td>\n",
       "      <td>1.000000</td>\n",
       "      <td>0.500000</td>\n",
       "      <td>1.0</td>\n",
       "      <td>0</td>\n",
       "      <td>177.859292</td>\n",
       "      <td>218.368580</td>\n",
       "      <td>2.564949</td>\n",
       "      <td>Non Fraud</td>\n",
       "      <td>33.204</td>\n",
       "      <td>/PROFILE/GETCUSTOMERRESPONSE /TAXFREE/GETTAXGO...</td>\n",
       "      <td>4.268623</td>\n",
       "    </tr>\n",
       "    <tr>\n",
       "      <th>2</th>\n",
       "      <td>[22, 24, 27, 1, 1268, 1269, 1267, 2, 23, 6, 25...</td>\n",
       "      <td>[0.0, 25.459, 46.236, 428.626, 42.785, 74.158,...</td>\n",
       "      <td>359</td>\n",
       "      <td>310</td>\n",
       "      <td>1.0</td>\n",
       "      <td>0.333333</td>\n",
       "      <td>0.333333</td>\n",
       "      <td>1.0</td>\n",
       "      <td>0</td>\n",
       "      <td>196.875569</td>\n",
       "      <td>252.496316</td>\n",
       "      <td>5.736572</td>\n",
       "      <td>Non Fraud</td>\n",
       "      <td>25.459</td>\n",
       "      <td>/PROFILE/GETCUSTOMERRESPONSE /CAMPAIGN/GETBALA...</td>\n",
       "      <td>587.279823</td>\n",
       "    </tr>\n",
       "  </tbody>\n",
       "</table>\n",
       "</div>"
      ],
      "text/plain": [
       "                                             actions  \\\n",
       "1  [22, 27, 24, 1, 1268, 1269, 1267, 22, 29, 1, 2...   \n",
       "2  [22, 24, 27, 1, 1268, 1269, 1267, 2, 23, 6, 25...   \n",
       "\n",
       "                                               times  execution_time  Amount  \\\n",
       "1  [0.0, 33.204, 215.636, 443.415, 72.586, 34.241...             203      13   \n",
       "2  [0.0, 25.459, 46.236, 428.626, 42.785, 74.158,...             359     310   \n",
       "\n",
       "   device_freq   ip_freq  beneficiary_freq  application_freq  is_fraud  \\\n",
       "1          1.0  1.000000          0.500000               1.0         0   \n",
       "2          1.0  0.333333          0.333333               1.0         0   \n",
       "\n",
       "   Action time mean  Action time std  log(amount) Transaction Type  \\\n",
       "1        177.859292       218.368580     2.564949        Non Fraud   \n",
       "2        196.875569       252.496316     5.736572        Non Fraud   \n",
       "\n",
       "   time_to_first_action                                        actions_str  \\\n",
       "1                33.204  /PROFILE/GETCUSTOMERRESPONSE /TAXFREE/GETTAXGO...   \n",
       "2                25.459  /PROFILE/GETCUSTOMERRESPONSE /CAMPAIGN/GETBALA...   \n",
       "\n",
       "   total_time_to_transaction  \n",
       "1                   4.268623  \n",
       "2                 587.279823  "
      ]
     },
     "execution_count": 10,
     "metadata": {},
     "output_type": "execute_result"
    }
   ],
   "source": [
    "df[\"times\"] = df.times.apply(literal_eval).apply(lambda x: [i/1000 for i in x])\n",
    "df[\"Action time mean\"] = df.times.apply(np.mean)\n",
    "df[\"Action time std\"] = df.times.apply(np.std)\n",
    "df[\"log(amount)\"] = df.Amount.apply(np.log)\n",
    "df[\"Transaction Type\"] = df.is_fraud.apply(lambda x: \"Fraud\" if x else \"Non Fraud\")\n",
    "df[\"time_to_first_action\"] = df.times.apply(lambda x: x[1] if len(x)>1 else 0)\n",
    "df[\"actions_str\"] = df.actions.apply(lambda x: \" \".join([id_to_action[str(i[0])] for i in x if len(i)>0]))\n",
    "df[\"total_time_to_transaction\"] = df.times.apply(sum)/1000\n",
    "df['actions'] = df['actions'].apply(lambda x: [item for sublist in x for item in sublist])\n",
    "df.head(2)"
   ]
  },
  {
   "cell_type": "code",
   "execution_count": 11,
   "id": "dd74676e-1f49-4bd5-ab66-5603168b218b",
   "metadata": {
    "tags": []
   },
   "outputs": [
    {
     "data": {
      "text/plain": [
       "actions                      0\n",
       "times                        0\n",
       "execution_time               0\n",
       "Amount                       0\n",
       "device_freq                  0\n",
       "ip_freq                      0\n",
       "beneficiary_freq             0\n",
       "application_freq             0\n",
       "is_fraud                     0\n",
       "Action time mean             0\n",
       "Action time std              0\n",
       "log(amount)                  0\n",
       "Transaction Type             0\n",
       "time_to_first_action         0\n",
       "actions_str                  0\n",
       "total_time_to_transaction    0\n",
       "dtype: int64"
      ]
     },
     "execution_count": 11,
     "metadata": {},
     "output_type": "execute_result"
    }
   ],
   "source": [
    "df.isnull().sum()"
   ]
  },
  {
   "cell_type": "code",
   "execution_count": 12,
   "id": "a824e0e6-d9e3-4c0d-a5ec-f5129442cc09",
   "metadata": {
    "tags": []
   },
   "outputs": [],
   "source": [
    "import nltk\n",
    "from nltk.corpus import stopwords\n",
    "from nltk.tokenize import word_tokenize\n",
    "from nltk.stem import WordNetLemmatizer\n",
    "import re\n"
   ]
  },
  {
   "cell_type": "code",
   "execution_count": 13,
   "id": "5d3069cb-3534-49a3-acd1-6eb0c25cd5b9",
   "metadata": {
    "tags": []
   },
   "outputs": [],
   "source": [
    "def preprocess_text(text):\n",
    "    if isinstance(text, str):  # Check if text is a string\n",
    "        # Convert text to lowercase\n",
    "        text = text.lower()\n",
    "        \n",
    "        # Remove special characters, punctuation, and digits\n",
    "        text = re.sub(r'[^a-zA-Z\\s]', '', text)\n",
    "        \n",
    "        # Tokenization\n",
    "        tokens = word_tokenize(text)\n",
    "        \n",
    "        # Remove stopwords\n",
    "        stop_words = set(stopwords.words('english'))\n",
    "        tokens = [token for token in tokens if token not in stop_words]\n",
    "        \n",
    "        # Lemmatization\n",
    "        lemmatizer = WordNetLemmatizer()\n",
    "        tokens = [lemmatizer.lemmatize(token) for token in tokens]\n",
    "        \n",
    "        # Join tokens back into text\n",
    "        processed_text = ' '.join(tokens)\n",
    "        \n",
    "        return processed_text\n",
    "    else:\n",
    "        return ''  # Return empty string for non-string values\n",
    "\n",
    "# Apply preprocessing to the 'actions_str' column\n",
    "df['preprocessed_actions'] = df['actions_str'].apply(preprocess_text)\n"
   ]
  },
  {
   "cell_type": "code",
   "execution_count": 14,
   "id": "488f9c35-dd1f-4ae1-bb57-e71462553d3e",
   "metadata": {
    "tags": []
   },
   "outputs": [
    {
     "name": "stdout",
     "output_type": "stream",
     "text": [
      "                                         actions_str  \\\n",
      "1  /PROFILE/GETCUSTOMERRESPONSE /TAXFREE/GETTAXGO...   \n",
      "2  /PROFILE/GETCUSTOMERRESPONSE /CAMPAIGN/GETBALA...   \n",
      "3  /PROFILE/GETCUSTOMERRESPONSE /PROFILE/USERPROF...   \n",
      "4  /PROFILE/GETCUSTOMERRESPONSE /CAMPAIGN/GETBALA...   \n",
      "5  /PROFILE/GETCUSTOMERRESPONSE /CAMPAIGN/GETBALA...   \n",
      "\n",
      "                                preprocessed_actions  \n",
      "1  profilegetcustomerresponse taxfreegettaxgoal c...  \n",
      "2  profilegetcustomerresponse campaigngetbalance ...  \n",
      "3  profilegetcustomerresponse profileuserprofile ...  \n",
      "4  profilegetcustomerresponse campaigngetbalance ...  \n",
      "5  profilegetcustomerresponse campaigngetbalance ...  \n"
     ]
    }
   ],
   "source": [
    "# Display the processed DataFrame\n",
    "print(df[['actions_str', 'preprocessed_actions']].head())"
   ]
  },
  {
   "cell_type": "code",
   "execution_count": 15,
   "id": "c0ff51aa-fa69-4018-aba5-cbe0d7032c50",
   "metadata": {
    "tags": []
   },
   "outputs": [],
   "source": [
    "from sklearn.feature_extraction.text import TfidfVectorizer\n",
    "\n",
    "# TF-IDF Vectorization\n",
    "tfidf_vectorizer = TfidfVectorizer(max_features=1000)  # You can adjust max_features as needed\n",
    "tfidf_matrix = tfidf_vectorizer.fit_transform(df['preprocessed_actions'])\n"
   ]
  },
  {
   "cell_type": "code",
   "execution_count": 16,
   "id": "e68fb6c3-dfdf-4d37-885e-8e8044161093",
   "metadata": {
    "tags": []
   },
   "outputs": [],
   "source": [
    "\n",
    "# Convert TF-IDF matrix to DataFrame\n",
    "tfidf_df = pd.DataFrame(tfidf_matrix.toarray(), columns=tfidf_vectorizer.get_feature_names_out())\n"
   ]
  },
  {
   "cell_type": "code",
   "execution_count": 17,
   "id": "f0a98300-6f2d-45ee-b768-e13941344891",
   "metadata": {
    "tags": []
   },
   "outputs": [
    {
     "data": {
      "text/html": [
       "<div>\n",
       "<style scoped>\n",
       "    .dataframe tbody tr th:only-of-type {\n",
       "        vertical-align: middle;\n",
       "    }\n",
       "\n",
       "    .dataframe tbody tr th {\n",
       "        vertical-align: top;\n",
       "    }\n",
       "\n",
       "    .dataframe thead th {\n",
       "        text-align: right;\n",
       "    }\n",
       "</style>\n",
       "<table border=\"1\" class=\"dataframe\">\n",
       "  <thead>\n",
       "    <tr style=\"text-align: right;\">\n",
       "      <th></th>\n",
       "      <th>actions</th>\n",
       "      <th>times</th>\n",
       "      <th>execution_time</th>\n",
       "      <th>Amount</th>\n",
       "      <th>device_freq</th>\n",
       "      <th>ip_freq</th>\n",
       "      <th>beneficiary_freq</th>\n",
       "      <th>application_freq</th>\n",
       "      <th>is_fraud</th>\n",
       "      <th>Action time mean</th>\n",
       "      <th>...</th>\n",
       "      <th>wealthgetexistingportfolio</th>\n",
       "      <th>wealthgetfeed</th>\n",
       "      <th>wealthgetglobalindexfeed</th>\n",
       "      <th>wealthgetinstrument</th>\n",
       "      <th>wealthgetmifid</th>\n",
       "      <th>wealthgetonlinebookingtransaction</th>\n",
       "      <th>wealthgetorder</th>\n",
       "      <th>wealthgetportfolioslist</th>\n",
       "      <th>wealthgetposition</th>\n",
       "      <th>wealthpartyid</th>\n",
       "    </tr>\n",
       "  </thead>\n",
       "  <tbody>\n",
       "    <tr>\n",
       "      <th>1</th>\n",
       "      <td>[22, 27, 24, 1, 1268, 1269, 1267, 22, 29, 1, 2...</td>\n",
       "      <td>[0.0, 33.204, 215.636, 443.415, 72.586, 34.241...</td>\n",
       "      <td>203.0</td>\n",
       "      <td>13.0</td>\n",
       "      <td>1.0</td>\n",
       "      <td>1.000000</td>\n",
       "      <td>0.500000</td>\n",
       "      <td>1.0</td>\n",
       "      <td>0.0</td>\n",
       "      <td>177.859292</td>\n",
       "      <td>...</td>\n",
       "      <td>0.0</td>\n",
       "      <td>0.0</td>\n",
       "      <td>0.0</td>\n",
       "      <td>0.0</td>\n",
       "      <td>0.0</td>\n",
       "      <td>0.0</td>\n",
       "      <td>0.0</td>\n",
       "      <td>0.003871</td>\n",
       "      <td>0.011988</td>\n",
       "      <td>0.214356</td>\n",
       "    </tr>\n",
       "    <tr>\n",
       "      <th>2</th>\n",
       "      <td>[22, 24, 27, 1, 1268, 1269, 1267, 2, 23, 6, 25...</td>\n",
       "      <td>[0.0, 25.459, 46.236, 428.626, 42.785, 74.158,...</td>\n",
       "      <td>359.0</td>\n",
       "      <td>310.0</td>\n",
       "      <td>1.0</td>\n",
       "      <td>0.333333</td>\n",
       "      <td>0.333333</td>\n",
       "      <td>1.0</td>\n",
       "      <td>0.0</td>\n",
       "      <td>196.875569</td>\n",
       "      <td>...</td>\n",
       "      <td>0.0</td>\n",
       "      <td>0.0</td>\n",
       "      <td>0.0</td>\n",
       "      <td>0.0</td>\n",
       "      <td>0.0</td>\n",
       "      <td>0.0</td>\n",
       "      <td>0.0</td>\n",
       "      <td>0.020461</td>\n",
       "      <td>0.000000</td>\n",
       "      <td>0.133290</td>\n",
       "    </tr>\n",
       "    <tr>\n",
       "      <th>3</th>\n",
       "      <td>[22, 1, 29, 22, 26, 2, 23, 25, 6, 28, 14, 7, 6...</td>\n",
       "      <td>[0.0, 440.927, 5.785, 46.875, 968.65, 311.757,...</td>\n",
       "      <td>250.0</td>\n",
       "      <td>350.0</td>\n",
       "      <td>1.0</td>\n",
       "      <td>0.500000</td>\n",
       "      <td>0.500000</td>\n",
       "      <td>1.0</td>\n",
       "      <td>0.0</td>\n",
       "      <td>231.663108</td>\n",
       "      <td>...</td>\n",
       "      <td>0.0</td>\n",
       "      <td>0.0</td>\n",
       "      <td>0.0</td>\n",
       "      <td>0.0</td>\n",
       "      <td>0.0</td>\n",
       "      <td>0.0</td>\n",
       "      <td>0.0</td>\n",
       "      <td>0.000000</td>\n",
       "      <td>0.000000</td>\n",
       "      <td>0.088614</td>\n",
       "    </tr>\n",
       "    <tr>\n",
       "      <th>4</th>\n",
       "      <td>[22, 24, 27, 72, 1269, 1268, 1267, 4, 70, 46, ...</td>\n",
       "      <td>[0.0, 93.894, 46.81, 548.388, 132.548, 37.844,...</td>\n",
       "      <td>203.0</td>\n",
       "      <td>350.0</td>\n",
       "      <td>1.0</td>\n",
       "      <td>0.600000</td>\n",
       "      <td>0.400000</td>\n",
       "      <td>1.0</td>\n",
       "      <td>0.0</td>\n",
       "      <td>201.258838</td>\n",
       "      <td>...</td>\n",
       "      <td>0.0</td>\n",
       "      <td>0.0</td>\n",
       "      <td>0.0</td>\n",
       "      <td>0.0</td>\n",
       "      <td>0.0</td>\n",
       "      <td>0.0</td>\n",
       "      <td>0.0</td>\n",
       "      <td>0.000000</td>\n",
       "      <td>0.000000</td>\n",
       "      <td>0.096876</td>\n",
       "    </tr>\n",
       "    <tr>\n",
       "      <th>5</th>\n",
       "      <td>[22, 24, 27, 23, 2, 1269, 1269, 6, 25, 7, 28, ...</td>\n",
       "      <td>[0.0, 921.997, 47.386, 963.97, 9.522, 443.596,...</td>\n",
       "      <td>593.0</td>\n",
       "      <td>2000.0</td>\n",
       "      <td>1.0</td>\n",
       "      <td>0.666667</td>\n",
       "      <td>0.166667</td>\n",
       "      <td>1.0</td>\n",
       "      <td>1.0</td>\n",
       "      <td>196.272000</td>\n",
       "      <td>...</td>\n",
       "      <td>0.0</td>\n",
       "      <td>0.0</td>\n",
       "      <td>0.0</td>\n",
       "      <td>0.0</td>\n",
       "      <td>0.0</td>\n",
       "      <td>0.0</td>\n",
       "      <td>0.0</td>\n",
       "      <td>0.000000</td>\n",
       "      <td>0.000000</td>\n",
       "      <td>0.212969</td>\n",
       "    </tr>\n",
       "  </tbody>\n",
       "</table>\n",
       "<p>5 rows × 625 columns</p>\n",
       "</div>"
      ],
      "text/plain": [
       "                                             actions  \\\n",
       "1  [22, 27, 24, 1, 1268, 1269, 1267, 22, 29, 1, 2...   \n",
       "2  [22, 24, 27, 1, 1268, 1269, 1267, 2, 23, 6, 25...   \n",
       "3  [22, 1, 29, 22, 26, 2, 23, 25, 6, 28, 14, 7, 6...   \n",
       "4  [22, 24, 27, 72, 1269, 1268, 1267, 4, 70, 46, ...   \n",
       "5  [22, 24, 27, 23, 2, 1269, 1269, 6, 25, 7, 28, ...   \n",
       "\n",
       "                                               times  execution_time  Amount  \\\n",
       "1  [0.0, 33.204, 215.636, 443.415, 72.586, 34.241...           203.0    13.0   \n",
       "2  [0.0, 25.459, 46.236, 428.626, 42.785, 74.158,...           359.0   310.0   \n",
       "3  [0.0, 440.927, 5.785, 46.875, 968.65, 311.757,...           250.0   350.0   \n",
       "4  [0.0, 93.894, 46.81, 548.388, 132.548, 37.844,...           203.0   350.0   \n",
       "5  [0.0, 921.997, 47.386, 963.97, 9.522, 443.596,...           593.0  2000.0   \n",
       "\n",
       "   device_freq   ip_freq  beneficiary_freq  application_freq  is_fraud  \\\n",
       "1          1.0  1.000000          0.500000               1.0       0.0   \n",
       "2          1.0  0.333333          0.333333               1.0       0.0   \n",
       "3          1.0  0.500000          0.500000               1.0       0.0   \n",
       "4          1.0  0.600000          0.400000               1.0       0.0   \n",
       "5          1.0  0.666667          0.166667               1.0       1.0   \n",
       "\n",
       "   Action time mean  ...  wealthgetexistingportfolio  wealthgetfeed  \\\n",
       "1        177.859292  ...                         0.0            0.0   \n",
       "2        196.875569  ...                         0.0            0.0   \n",
       "3        231.663108  ...                         0.0            0.0   \n",
       "4        201.258838  ...                         0.0            0.0   \n",
       "5        196.272000  ...                         0.0            0.0   \n",
       "\n",
       "  wealthgetglobalindexfeed  wealthgetinstrument wealthgetmifid  \\\n",
       "1                      0.0                  0.0            0.0   \n",
       "2                      0.0                  0.0            0.0   \n",
       "3                      0.0                  0.0            0.0   \n",
       "4                      0.0                  0.0            0.0   \n",
       "5                      0.0                  0.0            0.0   \n",
       "\n",
       "   wealthgetonlinebookingtransaction wealthgetorder  wealthgetportfolioslist  \\\n",
       "1                                0.0            0.0                 0.003871   \n",
       "2                                0.0            0.0                 0.020461   \n",
       "3                                0.0            0.0                 0.000000   \n",
       "4                                0.0            0.0                 0.000000   \n",
       "5                                0.0            0.0                 0.000000   \n",
       "\n",
       "   wealthgetposition  wealthpartyid  \n",
       "1           0.011988       0.214356  \n",
       "2           0.000000       0.133290  \n",
       "3           0.000000       0.088614  \n",
       "4           0.000000       0.096876  \n",
       "5           0.000000       0.212969  \n",
       "\n",
       "[5 rows x 625 columns]"
      ]
     },
     "execution_count": 17,
     "metadata": {},
     "output_type": "execute_result"
    }
   ],
   "source": [
    "# Concatenate TF-IDF features with the original DataFrame\n",
    "df_with_features = pd.concat([df, tfidf_df], axis=1)\n",
    "# Display the DataFrame with features\n",
    "df_with_features.head()\n"
   ]
  },
  {
   "cell_type": "code",
   "execution_count": null,
   "id": "6c69e27a-f906-4aad-a71a-b5edeca48356",
   "metadata": {},
   "outputs": [],
   "source": []
  },
  {
   "cell_type": "code",
   "execution_count": 18,
   "id": "fe1e0426-7ebc-4586-b035-fd7a13ceef32",
   "metadata": {
    "tags": []
   },
   "outputs": [],
   "source": [
    "from gensim.models import Word2Vec\n",
    "import multiprocessing\n",
    "\n",
    "# Tokenize the preprocessed text data\n",
    "tokenized_text = df['preprocessed_actions'].apply(word_tokenize)\n",
    "\n",
    "# Train Word2Vec model\n",
    "cores = multiprocessing.cpu_count()  # Number of CPU cores\n",
    "word2vec_model = Word2Vec(sentences=tokenized_text, \n",
    "                          vector_size=100,      # Dimensionality of the word vectors\n",
    "                          window=5,             # Context window size\n",
    "                          min_count=1,          # Minimum frequency of words to consider\n",
    "                          workers=cores)        # Number of CPU cores to use for training\n",
    "\n"
   ]
  },
  {
   "cell_type": "code",
   "execution_count": 19,
   "id": "a350db61-a5cf-4561-bf78-4f83b28e7439",
   "metadata": {
    "tags": []
   },
   "outputs": [],
   "source": [
    "# Save or load the trained Word2Vec model if needed\n",
    "# word2vec_model.save(\"word2vec_model.bin\")\n",
    "# word2vec_model = Word2Vec.load(\"word2vec_model.bin\")\n",
    "\n",
    "# Extract word embeddings for each action\n",
    "word_embeddings = []\n",
    "for tokens in tokenized_text:\n",
    "    embeddings = [word2vec_model.wv[word] for word in tokens if word in word2vec_model.wv]\n",
    "    if embeddings:\n",
    "        word_embeddings.append(sum(embeddings) / len(embeddings))  # Average of word embeddings for each action\n",
    "    else:\n",
    "        word_embeddings.append([0] * word2vec_model.vector_size)   # Use zero vector for actions with no embeddings\n",
    "\n"
   ]
  },
  {
   "cell_type": "code",
   "execution_count": 20,
   "id": "c0696a60-5c35-41a8-bedf-302d4bd26be8",
   "metadata": {
    "tags": []
   },
   "outputs": [
    {
     "data": {
      "text/html": [
       "<div>\n",
       "<style scoped>\n",
       "    .dataframe tbody tr th:only-of-type {\n",
       "        vertical-align: middle;\n",
       "    }\n",
       "\n",
       "    .dataframe tbody tr th {\n",
       "        vertical-align: top;\n",
       "    }\n",
       "\n",
       "    .dataframe thead th {\n",
       "        text-align: right;\n",
       "    }\n",
       "</style>\n",
       "<table border=\"1\" class=\"dataframe\">\n",
       "  <thead>\n",
       "    <tr style=\"text-align: right;\">\n",
       "      <th></th>\n",
       "      <th>actions</th>\n",
       "      <th>times</th>\n",
       "      <th>execution_time</th>\n",
       "      <th>Amount</th>\n",
       "      <th>device_freq</th>\n",
       "      <th>ip_freq</th>\n",
       "      <th>beneficiary_freq</th>\n",
       "      <th>application_freq</th>\n",
       "      <th>is_fraud</th>\n",
       "      <th>Action time mean</th>\n",
       "      <th>...</th>\n",
       "      <th>embedding_91</th>\n",
       "      <th>embedding_92</th>\n",
       "      <th>embedding_93</th>\n",
       "      <th>embedding_94</th>\n",
       "      <th>embedding_95</th>\n",
       "      <th>embedding_96</th>\n",
       "      <th>embedding_97</th>\n",
       "      <th>embedding_98</th>\n",
       "      <th>embedding_99</th>\n",
       "      <th>embedding_100</th>\n",
       "    </tr>\n",
       "  </thead>\n",
       "  <tbody>\n",
       "    <tr>\n",
       "      <th>1</th>\n",
       "      <td>[22, 27, 24, 1, 1268, 1269, 1267, 22, 29, 1, 2...</td>\n",
       "      <td>[0.0, 33.204, 215.636, 443.415, 72.586, 34.241...</td>\n",
       "      <td>203.0</td>\n",
       "      <td>13.0</td>\n",
       "      <td>1.0</td>\n",
       "      <td>1.000000</td>\n",
       "      <td>0.500000</td>\n",
       "      <td>1.0</td>\n",
       "      <td>0.0</td>\n",
       "      <td>177.859292</td>\n",
       "      <td>...</td>\n",
       "      <td>0.390370</td>\n",
       "      <td>-0.259035</td>\n",
       "      <td>-0.818634</td>\n",
       "      <td>0.526734</td>\n",
       "      <td>-0.675468</td>\n",
       "      <td>0.911069</td>\n",
       "      <td>-0.475308</td>\n",
       "      <td>0.655829</td>\n",
       "      <td>0.984734</td>\n",
       "      <td>-1.828189</td>\n",
       "    </tr>\n",
       "    <tr>\n",
       "      <th>2</th>\n",
       "      <td>[22, 24, 27, 1, 1268, 1269, 1267, 2, 23, 6, 25...</td>\n",
       "      <td>[0.0, 25.459, 46.236, 428.626, 42.785, 74.158,...</td>\n",
       "      <td>359.0</td>\n",
       "      <td>310.0</td>\n",
       "      <td>1.0</td>\n",
       "      <td>0.333333</td>\n",
       "      <td>0.333333</td>\n",
       "      <td>1.0</td>\n",
       "      <td>0.0</td>\n",
       "      <td>196.875569</td>\n",
       "      <td>...</td>\n",
       "      <td>0.370563</td>\n",
       "      <td>-0.170274</td>\n",
       "      <td>-0.850609</td>\n",
       "      <td>0.435764</td>\n",
       "      <td>-0.746376</td>\n",
       "      <td>0.892807</td>\n",
       "      <td>-0.160660</td>\n",
       "      <td>0.271043</td>\n",
       "      <td>1.041365</td>\n",
       "      <td>-1.642899</td>\n",
       "    </tr>\n",
       "    <tr>\n",
       "      <th>3</th>\n",
       "      <td>[22, 1, 29, 22, 26, 2, 23, 25, 6, 28, 14, 7, 6...</td>\n",
       "      <td>[0.0, 440.927, 5.785, 46.875, 968.65, 311.757,...</td>\n",
       "      <td>250.0</td>\n",
       "      <td>350.0</td>\n",
       "      <td>1.0</td>\n",
       "      <td>0.500000</td>\n",
       "      <td>0.500000</td>\n",
       "      <td>1.0</td>\n",
       "      <td>0.0</td>\n",
       "      <td>231.663108</td>\n",
       "      <td>...</td>\n",
       "      <td>0.282979</td>\n",
       "      <td>-0.551494</td>\n",
       "      <td>-0.871284</td>\n",
       "      <td>0.165223</td>\n",
       "      <td>-0.645264</td>\n",
       "      <td>0.520670</td>\n",
       "      <td>0.301725</td>\n",
       "      <td>0.106478</td>\n",
       "      <td>1.120970</td>\n",
       "      <td>-1.542511</td>\n",
       "    </tr>\n",
       "    <tr>\n",
       "      <th>4</th>\n",
       "      <td>[22, 24, 27, 72, 1269, 1268, 1267, 4, 70, 46, ...</td>\n",
       "      <td>[0.0, 93.894, 46.81, 548.388, 132.548, 37.844,...</td>\n",
       "      <td>203.0</td>\n",
       "      <td>350.0</td>\n",
       "      <td>1.0</td>\n",
       "      <td>0.600000</td>\n",
       "      <td>0.400000</td>\n",
       "      <td>1.0</td>\n",
       "      <td>0.0</td>\n",
       "      <td>201.258838</td>\n",
       "      <td>...</td>\n",
       "      <td>0.201138</td>\n",
       "      <td>-0.865989</td>\n",
       "      <td>-0.758778</td>\n",
       "      <td>-0.272655</td>\n",
       "      <td>-0.813920</td>\n",
       "      <td>0.295349</td>\n",
       "      <td>0.388804</td>\n",
       "      <td>0.648794</td>\n",
       "      <td>0.542747</td>\n",
       "      <td>-1.152348</td>\n",
       "    </tr>\n",
       "    <tr>\n",
       "      <th>5</th>\n",
       "      <td>[22, 24, 27, 23, 2, 1269, 1269, 6, 25, 7, 28, ...</td>\n",
       "      <td>[0.0, 921.997, 47.386, 963.97, 9.522, 443.596,...</td>\n",
       "      <td>593.0</td>\n",
       "      <td>2000.0</td>\n",
       "      <td>1.0</td>\n",
       "      <td>0.666667</td>\n",
       "      <td>0.166667</td>\n",
       "      <td>1.0</td>\n",
       "      <td>1.0</td>\n",
       "      <td>196.272000</td>\n",
       "      <td>...</td>\n",
       "      <td>0.398779</td>\n",
       "      <td>-0.263677</td>\n",
       "      <td>-0.834379</td>\n",
       "      <td>0.552381</td>\n",
       "      <td>-0.701737</td>\n",
       "      <td>0.939087</td>\n",
       "      <td>-0.504878</td>\n",
       "      <td>0.672113</td>\n",
       "      <td>0.956458</td>\n",
       "      <td>-1.847037</td>\n",
       "    </tr>\n",
       "  </tbody>\n",
       "</table>\n",
       "<p>5 rows × 117 columns</p>\n",
       "</div>"
      ],
      "text/plain": [
       "                                             actions  \\\n",
       "1  [22, 27, 24, 1, 1268, 1269, 1267, 22, 29, 1, 2...   \n",
       "2  [22, 24, 27, 1, 1268, 1269, 1267, 2, 23, 6, 25...   \n",
       "3  [22, 1, 29, 22, 26, 2, 23, 25, 6, 28, 14, 7, 6...   \n",
       "4  [22, 24, 27, 72, 1269, 1268, 1267, 4, 70, 46, ...   \n",
       "5  [22, 24, 27, 23, 2, 1269, 1269, 6, 25, 7, 28, ...   \n",
       "\n",
       "                                               times  execution_time  Amount  \\\n",
       "1  [0.0, 33.204, 215.636, 443.415, 72.586, 34.241...           203.0    13.0   \n",
       "2  [0.0, 25.459, 46.236, 428.626, 42.785, 74.158,...           359.0   310.0   \n",
       "3  [0.0, 440.927, 5.785, 46.875, 968.65, 311.757,...           250.0   350.0   \n",
       "4  [0.0, 93.894, 46.81, 548.388, 132.548, 37.844,...           203.0   350.0   \n",
       "5  [0.0, 921.997, 47.386, 963.97, 9.522, 443.596,...           593.0  2000.0   \n",
       "\n",
       "   device_freq   ip_freq  beneficiary_freq  application_freq  is_fraud  \\\n",
       "1          1.0  1.000000          0.500000               1.0       0.0   \n",
       "2          1.0  0.333333          0.333333               1.0       0.0   \n",
       "3          1.0  0.500000          0.500000               1.0       0.0   \n",
       "4          1.0  0.600000          0.400000               1.0       0.0   \n",
       "5          1.0  0.666667          0.166667               1.0       1.0   \n",
       "\n",
       "   Action time mean  ...  embedding_91  embedding_92 embedding_93  \\\n",
       "1        177.859292  ...      0.390370     -0.259035    -0.818634   \n",
       "2        196.875569  ...      0.370563     -0.170274    -0.850609   \n",
       "3        231.663108  ...      0.282979     -0.551494    -0.871284   \n",
       "4        201.258838  ...      0.201138     -0.865989    -0.758778   \n",
       "5        196.272000  ...      0.398779     -0.263677    -0.834379   \n",
       "\n",
       "   embedding_94 embedding_95  embedding_96 embedding_97  embedding_98  \\\n",
       "1      0.526734    -0.675468      0.911069    -0.475308      0.655829   \n",
       "2      0.435764    -0.746376      0.892807    -0.160660      0.271043   \n",
       "3      0.165223    -0.645264      0.520670     0.301725      0.106478   \n",
       "4     -0.272655    -0.813920      0.295349     0.388804      0.648794   \n",
       "5      0.552381    -0.701737      0.939087    -0.504878      0.672113   \n",
       "\n",
       "   embedding_99  embedding_100  \n",
       "1      0.984734      -1.828189  \n",
       "2      1.041365      -1.642899  \n",
       "3      1.120970      -1.542511  \n",
       "4      0.542747      -1.152348  \n",
       "5      0.956458      -1.847037  \n",
       "\n",
       "[5 rows x 117 columns]"
      ]
     },
     "execution_count": 20,
     "metadata": {},
     "output_type": "execute_result"
    }
   ],
   "source": [
    "# Convert word embeddings to DataFrame\n",
    "embedding_df = pd.DataFrame(word_embeddings, columns=[f\"embedding_{i+1}\" for i in range(word2vec_model.vector_size)])\n",
    "\n",
    "# Concatenate word embeddings with the original DataFrame\n",
    "df_with_embeddings = pd.concat([df, embedding_df], axis=1)\n",
    "\n",
    "# Displaying the DataFrame with embeddings\n",
    "df_with_embeddings.head()\n"
   ]
  },
  {
   "cell_type": "code",
   "execution_count": 21,
   "id": "5349695d-cad0-460f-80b6-eaae4042176e",
   "metadata": {
    "tags": []
   },
   "outputs": [],
   "source": [
    "from keras.preprocessing.sequence import pad_sequences\n",
    "from keras.models import Sequential\n",
    "from keras.layers import LSTM, Dense, Embedding, SpatialDropout1D\n",
    "from sklearn.model_selection import train_test_split\n",
    "\n",
    "# Define maximum sequence length (you can adjust this based on your data)\n",
    "max_sequence_length = 100\n",
    "\n",
    "# Convert action sequences to padded sequences\n",
    "padded_sequences = pad_sequences(df['actions'], maxlen=max_sequence_length)\n",
    "\n",
    "# Split the data into training and testing sets\n",
    "X_train, X_test, y_train, y_test = train_test_split(padded_sequences, df['is_fraud'], test_size=0.2, random_state=42)\n"
   ]
  },
  {
   "cell_type": "code",
   "execution_count": 22,
   "id": "c79a9a56-4de1-4567-9760-602eada3119d",
   "metadata": {
    "tags": []
   },
   "outputs": [
    {
     "name": "stdout",
     "output_type": "stream",
     "text": [
      "WARNING:tensorflow:From C:\\Users\\Home\\Anaconda-latest\\Lib\\site-packages\\keras\\src\\backend.py:873: The name tf.get_default_graph is deprecated. Please use tf.compat.v1.get_default_graph instead.\n",
      "\n"
     ]
    }
   ],
   "source": [
    "# Define the LSTM model\n",
    "model = Sequential()\n",
    "model.add(Embedding(input_dim=len(action_vocab), output_dim=100, input_length=max_sequence_length))\n",
    "model.add(SpatialDropout1D(0.2))\n",
    "model.add(LSTM(100, dropout=0.2, recurrent_dropout=0.2))\n",
    "model.add(Dense(1, activation='sigmoid'))\n"
   ]
  },
  {
   "cell_type": "code",
   "execution_count": 23,
   "id": "bbff13e0-61d3-48bc-9a3c-43f096b5fb5f",
   "metadata": {
    "tags": []
   },
   "outputs": [
    {
     "name": "stdout",
     "output_type": "stream",
     "text": [
      "WARNING:tensorflow:From C:\\Users\\Home\\Anaconda-latest\\Lib\\site-packages\\keras\\src\\optimizers\\__init__.py:309: The name tf.train.Optimizer is deprecated. Please use tf.compat.v1.train.Optimizer instead.\n",
      "\n"
     ]
    }
   ],
   "source": [
    "# Compile the model\n",
    "model.compile(loss='binary_crossentropy', optimizer='adam', metrics=['accuracy'])\n",
    "\n"
   ]
  },
  {
   "cell_type": "code",
   "execution_count": null,
   "id": "5802c3cd-bc16-46c6-9f5b-640b47a1693c",
   "metadata": {
    "tags": []
   },
   "outputs": [
    {
     "name": "stdout",
     "output_type": "stream",
     "text": [
      "Epoch 1/10\n",
      "WARNING:tensorflow:From C:\\Users\\Home\\Anaconda-latest\\Lib\\site-packages\\keras\\src\\utils\\tf_utils.py:492: The name tf.ragged.RaggedTensorValue is deprecated. Please use tf.compat.v1.ragged.RaggedTensorValue instead.\n",
      "\n",
      "WARNING:tensorflow:From C:\\Users\\Home\\Anaconda-latest\\Lib\\site-packages\\keras\\src\\engine\\base_layer_utils.py:384: The name tf.executing_eagerly_outside_functions is deprecated. Please use tf.compat.v1.executing_eagerly_outside_functions instead.\n",
      "\n",
      "  68/1317 [>.............................] - ETA: 2:49 - loss: 0.1007 - accuracy: 0.9903"
     ]
    }
   ],
   "source": [
    "# Train the model\n",
    "model.fit(X_train, y_train, epochs=10, batch_size=64, validation_data=(X_test, y_test))\n"
   ]
  },
  {
   "cell_type": "code",
   "execution_count": null,
   "id": "0fff8384-9bf8-4e43-a75b-1559aa1d39a4",
   "metadata": {
    "tags": []
   },
   "outputs": [],
   "source": [
    "# Evaluate the model\n",
    "loss, accuracy = model.evaluate(X_test, y_test)\n",
    "print(f\"Test Accuracy: {accuracy * 100:.2f}%\")"
   ]
  },
  {
   "cell_type": "code",
   "execution_count": null,
   "id": "415134a5-1eff-4d22-b19a-a643aaa0c064",
   "metadata": {
    "tags": []
   },
   "outputs": [],
   "source": [
    "# Find the maximum sequence length in the dataset\n",
    "#max_sequence_length = max(len(seq) for seq in df['actions'])\n",
    "\n",
    "# Print the problematic sample at position 304 and its shape\n",
    "#sample_304 = df['actions'].iloc[304]\n",
    "#print(\"Sample at position 304:\", sample_304)\n",
    "#print(\"Shape of sample:\", np.array(sample_304).shape)\n"
   ]
  },
  {
   "cell_type": "code",
   "execution_count": null,
   "id": "b6b6d964-5a7e-4bfb-bd58-0e887c694d98",
   "metadata": {
    "tags": []
   },
   "outputs": [],
   "source": [
    "# Find the maximum sequence length in the dataset\n",
    "max_sequence_length = max(len(seq) for seq in df['actions'])\n",
    "\n",
    "# Identify sequences causing the issue\n",
    "problematic_sequences = [seq for seq in df['actions'] if len(seq) != max_sequence_length]\n",
    "\n",
    "# Print the problematic sequences and their lengths\n",
    "for i, seq in enumerate(problematic_sequences):\n",
    "    print(f\"Sequence {i+1}: Length={len(seq)}, Elements={seq}\")\n",
    "\n",
    "# Print the shape of the first problematic sequence if it exists\n",
    "if problematic_sequences:\n",
    "    try:\n",
    "        print(\"Shape of the first problematic sequence:\", np.array(problematic_sequences[0]).shape)\n",
    "    except Exception as e:\n",
    "        print(\"Error occurred while getting the shape of the first problematic sequence:\", str(e))\n",
    "else:\n",
    "    print(\"No problematic sequences found.\")\n"
   ]
  },
  {
   "cell_type": "code",
   "execution_count": null,
   "id": "8dc66904-3b22-4086-90a7-2a682a614658",
   "metadata": {
    "tags": []
   },
   "outputs": [],
   "source": [
    "\n",
    "# Print the shape of the first problematic sequence\n",
    "print(\"Shape of the first problematic sequence:\", np.array(problematic_sequences[0]).shape)\n",
    "\n",
    "# Print the shape of the first problematic sequence if it exists\n",
    "if problematic_sequences:\n",
    "    try:\n",
    "        print(\"Shape of the first problematic sequence:\", np.array(problematic_sequences[0]).shape)\n",
    "    except Exception as e:\n",
    "        print(\"Error occurred while getting the shape of the first problematic sequence:\", str(e))\n",
    "else:\n",
    "    print(\"No problematic sequences found.\")\n"
   ]
  },
  {
   "cell_type": "code",
   "execution_count": null,
   "id": "47d3b8f2-f427-4426-aea2-431c9d811ab8",
   "metadata": {
    "tags": []
   },
   "outputs": [],
   "source": [
    "from keras.layers import Input, Embedding, LSTM\n",
    "\n",
    "# Define input sequence shape\n",
    "sequence_input = Input(shape=(max_sequence_length,), dtype='int32')\n",
    "\n",
    "# Define embedding layer\n",
    "embedding_layer = Embedding(input_dim=len(action_vocab), output_dim=100, input_length=max_sequence_length)(sequence_input)\n",
    "\n",
    "# Define LSTM layer\n",
    "lstm_layer = LSTM(100, return_sequences=True)(embedding_layer)\n"
   ]
  },
  {
   "cell_type": "code",
   "execution_count": null,
   "id": "ec1022ea-fd68-422d-9514-75d165f5764c",
   "metadata": {
    "tags": []
   },
   "outputs": [],
   "source": [
    "from keras.layers import Activation, Dense, Dot\n",
    "\n",
    "# Attention mechanism (Bahdanau attention)\n",
    "attention_weights = Dense(1, activation='tanh')(lstm_layer)\n",
    "attention_weights = Activation('softmax')(attention_weights)\n",
    "attention_output = Dot(axes=1)([attention_weights, lstm_layer])\n"
   ]
  },
  {
   "cell_type": "code",
   "execution_count": null,
   "id": "99d157b7-4bbc-4874-867b-4e7c7e427d7e",
   "metadata": {
    "tags": []
   },
   "outputs": [],
   "source": [
    "from keras.layers import Concatenate, Reshape\n",
    "from keras.layers import ZeroPadding1D\n",
    "\n",
    "# Pad attention_output to match the shape of lstm_layer along the second dimension\n",
    "attention_output_padded = ZeroPadding1D(padding=(0, 3084))(attention_output_reshaped)\n",
    "\n",
    "# Concatenate LSTM output and attention output\n",
    "final_output = Concatenate(axis=-1)([attention_output_padded, lstm_layer])\n"
   ]
  },
  {
   "cell_type": "code",
   "execution_count": null,
   "id": "dd81c2bf-3235-45f5-84dc-f1b9e4f0fd34",
   "metadata": {
    "tags": []
   },
   "outputs": [],
   "source": [
    "# Dense layer for classification\n",
    "output = Dense(1, activation='sigmoid')(final_output)\n"
   ]
  },
  {
   "cell_type": "code",
   "execution_count": null,
   "id": "32c1da88-92d4-4181-b90f-10d49ae65be4",
   "metadata": {
    "tags": []
   },
   "outputs": [],
   "source": [
    "from keras.models import Model\n",
    "\n",
    "# Define model\n",
    "model = Model(inputs=sequence_input, outputs=output)\n"
   ]
  },
  {
   "cell_type": "code",
   "execution_count": null,
   "id": "feb357c7-ed4e-4460-bc90-cbf4b4566d77",
   "metadata": {
    "tags": []
   },
   "outputs": [],
   "source": [
    "import tensorflow as tf\n",
    "from keras.preprocessing.sequence import pad_sequences\n",
    "\n",
    "# Define the model architecture\n",
    "def create_model(input_shape):\n",
    "    inputs = tf.keras.Input(shape=input_shape)\n",
    "    # Define the rest of your model layers\n",
    "    # Example:\n",
    "    # x = tf.keras.layers.Dense(64, activation='relu')(inputs)\n",
    "    # outputs = tf.keras.layers.Dense(1, activation='sigmoid')(x)\n",
    "    # model = tf.keras.Model(inputs, outputs)\n",
    "    # return model\n",
    "    model = tf.keras.Sequential([\n",
    "        tf.keras.layers.Dense(64, activation='relu', input_shape=input_shape),\n",
    "        tf.keras.layers.Dense(1, activation='sigmoid')\n",
    "    ])\n",
    "    return model\n",
    "\n",
    "# Create the model\n",
    "model = create_model((3085,))\n",
    "\n",
    "# Compile the model\n",
    "model.compile(loss='binary_crossentropy', optimizer='adam', metrics=['accuracy'])\n",
    "\n",
    "# Assuming X_train, y_train, X_test, y_test are defined\n",
    "# Pad input data to match expected shape\n",
    "X_train_padded = pad_sequences(X_train, maxlen=3085)\n",
    "X_test_padded = pad_sequences(X_test, maxlen=3085)\n",
    "\n",
    "# Train the model\n",
    "model.fit(X_train_padded, y_train, epochs=10, batch_size=64, validation_data=(X_test_padded, y_test))\n",
    "\n",
    "# Evaluate the model\n",
    "loss, accuracy = model.evaluate(X_test_padded, y_test)\n",
    "print(f\"Test Accuracy: {accuracy * 100:.2f}%\")\n"
   ]
  },
  {
   "cell_type": "code",
   "execution_count": null,
   "id": "daef3d68-aaf6-49e9-9b24-d16071b52762",
   "metadata": {
    "tags": []
   },
   "outputs": [],
   "source": [
    "# Assuming 'df' is your DataFrame containing the dataset\n",
    "#num_features = df.shape[1]\n",
    "\n",
    "#print(\"Number of features:\", num_features)"
   ]
  },
  {
   "cell_type": "code",
   "execution_count": null,
   "id": "6bb6d633-f4cf-443c-a379-7930cee8fa1b",
   "metadata": {
    "tags": []
   },
   "outputs": [],
   "source": [
    "# Assuming df is your DataFrame\n",
    "\n",
    "# Select numerical columns\n",
    "numerical_columns = df.select_dtypes(include=['number']).columns.tolist()\n",
    "\n",
    "print(\"Numerical Columns:\", numerical_columns)\n"
   ]
  },
  {
   "cell_type": "code",
   "execution_count": null,
   "id": "2b274f4b-53d5-40e6-a672-19848145b251",
   "metadata": {
    "tags": []
   },
   "outputs": [],
   "source": [
    "# Check for infinite values\n",
    "if np.any(np.isinf(df.select_dtypes(include=[np.number]).values)):\n",
    "    print(\"DataFrame contains infinite values.\")\n",
    "\n",
    "# Check for large values\n",
    "max_val = np.max(df.select_dtypes(include=[np.number]).values)\n",
    "if max_val > 1e10:  # Adjust the threshold as needed\n",
    "    print(\"DataFrame contains large values.\")\n",
    "\n",
    "# Check for missing values\n",
    "if df.isnull().values.any():\n",
    "    print(\"DataFrame contains missing values.\")\n",
    "\n",
    "# Handle missing values (if any)\n",
    "df.dropna(inplace=True)\n",
    "\n",
    "# Proceed with preprocessing and anomaly detection\n",
    "# (Use the code you provided after ensuring data integrity)\n"
   ]
  },
  {
   "cell_type": "code",
   "execution_count": null,
   "id": "1e2f42ea-e983-4a49-98fd-96911ccd08b1",
   "metadata": {
    "tags": []
   },
   "outputs": [],
   "source": [
    "# Select only numeric columns\n",
    "numeric_columns = df.select_dtypes(include=[np.number]).columns\n",
    "\n",
    "# Check for infinite values in each numeric column\n",
    "for column in numeric_columns:\n",
    "    if np.any(np.isinf(df[column])):\n",
    "        print(f\"Column '{column}' contains infinite values.\")\n"
   ]
  },
  {
   "cell_type": "code",
   "execution_count": null,
   "id": "92532ea5-2bb8-4648-b9b8-48e89256988f",
   "metadata": {
    "tags": []
   },
   "outputs": [],
   "source": [
    "# Check unique values in the 'log(amount)' column\n",
    "unique_values = df['log(amount)'].unique()\n",
    "print(unique_values)\n"
   ]
  },
  {
   "cell_type": "code",
   "execution_count": null,
   "id": "9ff2e986-dabb-45c9-bb24-242fb4241c5b",
   "metadata": {
    "tags": []
   },
   "outputs": [],
   "source": [
    "# Replace infinite values with NaN\n",
    "df['log(amount)'].replace([np.inf, -np.inf], np.nan, inplace=True)\n"
   ]
  },
  {
   "cell_type": "code",
   "execution_count": null,
   "id": "d1590d66-d414-4291-9565-999019f9fc32",
   "metadata": {
    "tags": []
   },
   "outputs": [],
   "source": [
    "# Check if there are any infinite values after handling\n",
    "if np.any(np.isinf(df['log(amount)'])):\n",
    "    print(\"Column 'log(amount)' still contains infinite values after handling.\")\n",
    "else:\n",
    "    print(\"All infinite values in column 'log(amount)' have been handled.\")\n"
   ]
  },
  {
   "cell_type": "markdown",
   "id": "c281cd77-5a40-4b6d-9f77-9346d1f487d6",
   "metadata": {},
   "source": [
    "ANOMALY DETECTION"
   ]
  },
  {
   "cell_type": "code",
   "execution_count": null,
   "id": "8b59885c-f3d2-47d3-8233-637f639ef849",
   "metadata": {
    "tags": []
   },
   "outputs": [],
   "source": [
    "import numpy as np\n",
    "\n",
    "# Assuming 'df' is your DataFrame containing the data\n",
    "# Extract the 'log(amount)' column from the DataFrame\n",
    "log_amount_column = df['log(amount)']\n",
    "\n",
    "# Convert the column to a NumPy array\n",
    "your_array = np.array(log_amount_column)\n",
    "\n",
    "# Check the data type of elements in your NumPy array\n",
    "print(\"Data type of array elements:\", your_array.dtype)\n",
    "\n",
    "# Print the elements of your array to inspect them\n",
    "print(\"Array elements:\", your_array)\n",
    "\n",
    "\n",
    "# Example: Reshape sequences into a uniform shape\n",
    "reshaped_array = np.array([np.reshape(seq, (-1,)) for seq in your_array])\n",
    "\n",
    "# Example: Print specific elements causing the error\n",
    "for i, element in enumerate(reshaped_array):\n",
    "    if isinstance(element, list):\n",
    "        print(f\"Element {i}: {element}\")\n"
   ]
  },
  {
   "cell_type": "code",
   "execution_count": null,
   "id": "582f6564-1e23-4ceb-9cd7-456f2adb23cc",
   "metadata": {},
   "outputs": [],
   "source": []
  },
  {
   "cell_type": "code",
   "execution_count": null,
   "id": "6f0e4aa9-6ae4-4f77-921c-f1e8c351f142",
   "metadata": {},
   "outputs": [],
   "source": [
    "Ensemble Methods and Evaluation and Iteration"
   ]
  },
  {
   "cell_type": "code",
   "execution_count": null,
   "id": "ef94732d-1f1f-4038-8f37-2439494ffb3b",
   "metadata": {},
   "outputs": [],
   "source": []
  }
 ],
 "metadata": {
  "kernelspec": {
   "display_name": "Python 3 (ipykernel)",
   "language": "python",
   "name": "python3"
  },
  "language_info": {
   "codemirror_mode": {
    "name": "ipython",
    "version": 3
   },
   "file_extension": ".py",
   "mimetype": "text/x-python",
   "name": "python",
   "nbconvert_exporter": "python",
   "pygments_lexer": "ipython3",
   "version": "3.11.5"
  }
 },
 "nbformat": 4,
 "nbformat_minor": 5
}
