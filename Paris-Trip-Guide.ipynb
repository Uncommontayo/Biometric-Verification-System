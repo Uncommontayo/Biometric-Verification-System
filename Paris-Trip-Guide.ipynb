{
  "nbformat": 4,
  "nbformat_minor": 0,
  "metadata": {
    "colab": {
      "provenance": [],
      "authorship_tag": "ABX9TyM9TDd6pQKvZIwRJASb1XvF",
      "include_colab_link": true
    },
    "kernelspec": {
      "name": "python3",
      "display_name": "Python 3"
    },
    "language_info": {
      "name": "python"
    }
  },
  "cells": [
    {
      "cell_type": "markdown",
      "metadata": {
        "id": "view-in-github",
        "colab_type": "text"
      },
      "source": [
        "<a href=\"https://colab.research.google.com/github/Uncommontayo/Biometric-Verification-System/blob/main/Paris-Trip-Guide.ipynb\" target=\"_parent\"><img src=\"https://colab.research.google.com/assets/colab-badge.svg\" alt=\"Open In Colab\"/></a>"
      ]
    },
    {
      "cell_type": "code",
      "execution_count": null,
      "metadata": {
        "id": "G98uC_uxZytH"
      },
      "outputs": [],
      "source": [
        "# Start your code here!\n",
        "import os\n",
        "from openai import OpenAI\n",
        "\n",
        "# Define the model to use\n",
        "model = \"gpt-3.5-turbo\"\n",
        "\n",
        "# Define the client\n",
        "client = OpenAI(api_key=os.environ[\"OPENAI_\"])\n",
        "\n",
        "# Start coding here\n",
        "#Assigning the conversation,\n",
        "conversation=[\n",
        "        {\"role\": \"system\", \"content\": \"You are a travel guide designed to provide information about landmarks that tourists should explore in Paris. You write this concisely.\"},\n",
        "        {\"role\": \"user\", \"content\": \"What is the most famous landmark in Paris?\"},\n",
        "     {\"role\": \"assistant\", \"content\": \"The most famous landmark in Paris is the Eiffel Tower.\"}\n",
        "    ]\n",
        "\n",
        "#Storing the list of question\n",
        "questions = [\n",
        "    \"How far away is the Louvre from the Eiffel Tower (in driving miles)?\",\n",
        "    \"Where is the Arc de Triomphe?\",\n",
        "    \"What are the must-see artworks at the Louvre Museum?\"\n",
        "]\n",
        "\n",
        "# Loop through each question to generate responses\n",
        "for question in questions:\n",
        "\n",
        "    # Format the user input into dictionary form\n",
        "    input_dict = {\"role\": \"user\",\n",
        "                  \"content\": question}\n",
        "\n",
        "    # Add the user input dictionary to the conversation\n",
        "    conversation.append(input_dict)\n",
        "\n",
        "    # Make the next API call\n",
        "    response = client.chat.completions.create(\n",
        "        model=model,\n",
        "        messages=conversation,\n",
        "        temperature=0.0,\n",
        "        max_tokens=100\n",
        "    )\n",
        "\n",
        "    # Print the response from the model\n",
        "    resp = response.choices[0].message.content\n",
        "    print(resp)\n",
        "\n",
        "    # Convert the response into the dictionary\n",
        "    resp_dict = {\"role\": \"assistant\",\n",
        "                 \"content\": resp}\n",
        "\n",
        "    # Append the response to the conversation\n",
        "    conversation.append(resp_dict)"
      ]
    }
  ]
}